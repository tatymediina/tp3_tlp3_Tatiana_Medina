{
 "cells": [
  {
   "cell_type": "markdown",
   "id": "498731c6",
   "metadata": {},
   "source": [
    "# Trabajo Practico n3 - Trabajando con Lists y Sets.\n",
    "## Criterios de evaluación.\n",
    "\n",
    "* Se deben utilizar nombres de variables descriptivos y claros (Utilizar la nomeclatura correspondiente para los nombres de variables).\n",
    "* Comentarios claros y concisos que expliquen el propósito de cada sección del código.\n",
    "* Utilizar mensajes de commit **descriptivos**. (Puedes utilizar la extension CONVENTIONAL COMMIT de VS-CODE). \n",
    "* Entrega en tiempo y forma.\n",
    "* Todo el código desarrollado debe ser subido a un repositorio en GitHub (el nombre del repositorio de seguir la siguiente estructura: tp3_tlp3_nombre_apellido).\n",
    "* Para resolver las actividades se debe insertar casillas de codigo entre cada actividad del cuaderno de Jupyter\n",
    "* El repositorio de GitHub debe incluir un archivo README.md con las instrucciones necesarias para la correcta ejecución del código.\n",
    "\n",
    "### ¡Importante!\n",
    "**El incumplimiento de los criterios de evaluación restará puntos en la nota final del práctico!**"
   ]
  },
  {
   "cell_type": "markdown",
   "id": "b361a7b6",
   "metadata": {},
   "source": [
    "### Actividad 1: \n",
    "Suma de todos los elementos de una lista, utilizando bucles repetitivos (for, while)."
   ]
  },
  {
   "cell_type": "code",
   "execution_count": null,
   "id": "26009294",
   "metadata": {},
   "outputs": [
    {
     "name": "stdout",
     "output_type": "stream",
     "text": [
      "204\n"
     ]
    }
   ],
   "source": [
    "\n",
    "# todo:\n",
    "\n",
    "numbers = [14, 23, 34, 48, 85]\n",
    "suma = 0\n",
    "for i in range(len(numbers)): \n",
    "    suma += numbers[i]\n",
    "\n",
    "print(suma)\n"
   ]
  },
  {
   "cell_type": "markdown",
   "id": "0c239195",
   "metadata": {},
   "source": [
    "### Actividad 2: \n",
    "Encontrar el número más grande en una lista, utilizando bucles repetitivos (for, while)."
   ]
  },
  {
   "cell_type": "code",
   "execution_count": 6,
   "id": "3611d25a",
   "metadata": {},
   "outputs": [
    {
     "name": "stdout",
     "output_type": "stream",
     "text": [
      "[76, 92, 66, 71, 13]\n",
      "El número más grande de la lista 92\n"
     ]
    }
   ],
   "source": [
    "\n",
    "# todo:\n",
    "\n",
    "from random import randint\n",
    "random_numbers =[randint(1, 100) for i in range(5)]\n",
    "\n",
    "print(random_numbers)\n",
    "\n",
    "numero_mayor = random_numbers[0]\n",
    "for i in range(len(random_numbers)):\n",
    "    if random_numbers[i] > numero_mayor:\n",
    "        numero_mayor = random_numbers[i]\n",
    "\n",
    "print(f\"El número más grande de la lista {numero_mayor}\")"
   ]
  },
  {
   "cell_type": "markdown",
   "id": "70a24b97",
   "metadata": {},
   "source": [
    "### Actividad 3:\n",
    "Contar cuántas veces aparece un número específico. Utiliza estructuras repetitivas para la resolucion de este ejercicio. "
   ]
  },
  {
   "cell_type": "code",
   "execution_count": null,
   "id": "a9c8ebc7",
   "metadata": {},
   "outputs": [
    {
     "name": "stdout",
     "output_type": "stream",
     "text": [
      "[57, 122, 150, 131, 169, 23, 26, 152, 12, 123, 129, 150, 103, 196, 51, 79, 37, 9, 165, 34]\n",
      "{57: 1, 122: 1, 150: 2, 131: 1, 169: 1, 23: 1, 26: 1, 152: 1, 12: 1, 123: 1, 129: 1, 103: 1, 196: 1, 51: 1, 79: 1, 37: 1, 9: 1, 165: 1, 34: 1}\n"
     ]
    }
   ],
   "source": [
    "\n",
    "# todo:\n",
    "\n",
    "lists = [randint(1, 200) for i in range(20)]\n",
    "\n",
    "\n",
    "def contar_frecuencia(lists):\n",
    "    frecuencia = {}\n",
    "    for i in lists:\n",
    "        if i in frecuencia:\n",
    "            frecuencia[i] += 1\n",
    "        else:\n",
    "            frecuencia[i] = 1\n",
    "    return frecuencia\n",
    "\n",
    "print(\"Lista:\", lists)\n",
    "print(\"Frecuencia de números:\", contar_frecuencia(lists))\n"
   ]
  },
  {
   "cell_type": "markdown",
   "id": "b8dac397",
   "metadata": {},
   "source": [
    "### Actividad 4: \n",
    "Invertir una lista sin usar reverse() ni [::-1]\n",
    "\n"
   ]
  },
  {
   "cell_type": "code",
   "execution_count": 9,
   "id": "d04fd492",
   "metadata": {},
   "outputs": [
    {
     "name": "stdout",
     "output_type": "stream",
     "text": [
      "Lista original: [43, 2, 46, 4, 3, 24, 10, 19]\n",
      "Lista invertida: [19, 10, 24, 3, 4, 46, 2, 43]\n"
     ]
    }
   ],
   "source": [
    "\n",
    "# todo:\n",
    "\n",
    "lists_two = [randint(1, 50) for i in range(8)]\n",
    "\n",
    "lista_invertida = []\n",
    "\n",
    "for i in range(len(lists_two)):\n",
    "    lista_invertida.insert(0, lists_two[i])\n",
    "\n",
    "print(\"Lista original:\", lists_two)\n",
    "print(\"Lista invertida:\", lista_invertida)"
   ]
  },
  {
   "cell_type": "markdown",
   "id": "8889d0f2",
   "metadata": {},
   "source": [
    "### Actividad 5:\n",
    "Sumar los elementos de dos listas posición por posición, utilizando solo bucles repetititivos (for,while)."
   ]
  },
  {
   "cell_type": "code",
   "execution_count": null,
   "id": "bc0ec844",
   "metadata": {},
   "outputs": [
    {
     "name": "stdout",
     "output_type": "stream",
     "text": [
      "Suma de la posicion 0 es: 3\n",
      "Suma de la posicion 1 es: 7\n",
      "Suma de la posicion 2 es: 11\n",
      "Suma de la posicion 3 es: 16\n",
      "Suma de la posicion 4 es: 18\n",
      "La suma de los elementos comunes de las dos listas es: 0\n"
     ]
    }
   ],
   "source": [
    "\n",
    "# todo:\n",
    "\n",
    "lists_one = [ 2,4,6,7,8 ]\n",
    "lists_two = [ 1,3,5,9,10 ]\n",
    "\n",
    "suma_total = 0\n",
    "if len(lists_one) == len(lists_two):\n",
    "    for i in range(len(lists_one)):\n",
    "        suma_elementos = lists_one[i] + lists_two[i]\n",
    "        print(f\"Suma de la posicion {i} es: {suma_elementos}\")\n",
    "\n",
    "print(f\"La suma total de las dos listas es: {suma_total}\")"
   ]
  },
  {
   "cell_type": "markdown",
   "id": "8ce33e6b",
   "metadata": {},
   "source": [
    "### Actividad 6:\n",
    "\n",
    "Escribir un programa que almacene el abecedario en una lista, elimine de la lista las letras que ocupen posiciones múltiplos de 3, y muestre por pantalla la lista resultante."
   ]
  },
  {
   "cell_type": "code",
   "execution_count": 20,
   "id": "b07326e2",
   "metadata": {},
   "outputs": [
    {
     "name": "stdout",
     "output_type": "stream",
     "text": [
      "Abecedario original: ['a', 'b', 'c', 'd', 'e', 'f', 'g', 'h', 'i', 'j', 'k', 'l', 'm', 'n', 'o', 'p', 'q', 'r', 's', 't', 'u', 'v', 'w', 'x', 'y', 'z']\n",
      "Abecedario resultante: ['a', 'b', 'd', 'e', 'g', 'h', 'j', 'k', 'm', 'n', 'p', 'q', 's', 't', 'v', 'w', 'y', 'z']\n"
     ]
    }
   ],
   "source": [
    "\n",
    "# todo:\n",
    "\n",
    "abc = [chr(i) for i in range(97, 123)]  # * Letras de 'a' a 'z' utilizando chr() unicode\n",
    "\n",
    "\n",
    "resultado = []\n",
    "for i in range(len(abc)):\n",
    "    if (i + 1) % 3 != 0:  # * Si NO es múltiplo de 3, la guardamos\n",
    "        resultado.append(abc[i])\n",
    "\n",
    "\n",
    "print(\"Abecedario original:\", abc)\n",
    "print(\"Abecedario resultante:\", resultado)\n"
   ]
  },
  {
   "cell_type": "markdown",
   "id": "5bfeb4b5",
   "metadata": {},
   "source": [
    "### Actividad 7:\n",
    "\n",
    "Escribir un programa que pida al usuario una palabra y muestre por pantalla si es un palíndromo (una palabra que se escribe de la misma forma al derecho y al reves)."
   ]
  },
  {
   "cell_type": "code",
   "execution_count": null,
   "id": "2365afcc",
   "metadata": {},
   "outputs": [
    {
     "name": "stdout",
     "output_type": "stream",
     "text": [
      "La palabra 'neuquen' es palíndroma.\n"
     ]
    }
   ],
   "source": [
    "\n",
    "# todo:\n",
    "palabra = input(\"Ingrese una palabra: \")\n",
    "\n",
    "def es_palindromo(palabra):\n",
    "    palabra = palabra.lower()\n",
    "    palabra_invertida = palabra[::-1]\n",
    "    if palabra == palabra_invertida:\n",
    "        print(f\"La palabra '{palabra}' es palíndroma\")\n",
    "    else:\n",
    "        print(f\"La palabra '{palabra}' no es palíndroma\")\n",
    "\n",
    "es_palindromo(palabra)\n",
    "\n"
   ]
  },
  {
   "cell_type": "markdown",
   "id": "ed8b51be",
   "metadata": {},
   "source": [
    "### Actividad 8:\n",
    "\n",
    "Teniendo en cuenta el conjunto 1 y el conjunto 2, sin usar el operador de intersección &, calcular la intersección de dichos conjuntos."
   ]
  },
  {
   "cell_type": "code",
   "execution_count": 18,
   "id": "21a434b9",
   "metadata": {},
   "outputs": [
    {
     "name": "stdout",
     "output_type": "stream",
     "text": [
      "La intersección es: {3, 4}\n"
     ]
    }
   ],
   "source": [
    "conjunto1 = {1, 2, 3, 4}\n",
    "conjunto2 = {3, 4, 5, 6}\n",
    "\n",
    "def calcular_interseccion(conjunto1, conjunto2):\n",
    "    interseccion = set()  \n",
    "    for i in conjunto1:\n",
    "        for j in conjunto2:\n",
    "            if i == j:\n",
    "                interseccion.add(i) \n",
    "    return interseccion  \n",
    "print(f\"La intersección es: {calcular_interseccion(conjunto1, conjunto2)}\")\n"
   ]
  },
  {
   "cell_type": "markdown",
   "id": "31b460dc",
   "metadata": {},
   "source": [
    "### Actividad 9:\n",
    "Eliminar duplicados de una lista usando un set."
   ]
  },
  {
   "cell_type": "code",
   "execution_count": 19,
   "id": "0ef62008",
   "metadata": {},
   "outputs": [
    {
     "name": "stdout",
     "output_type": "stream",
     "text": [
      "Lista sin duplicados: [1, 2, 3, 4, 5]\n"
     ]
    }
   ],
   "source": [
    "\n",
    "# todo:\n",
    "lista = [1, 2, 2, 3, 4, 4, 5]\n",
    "\n",
    "def eliminar_duplicados(lista):\n",
    "    return list(set(lista))\n",
    "\n",
    "print(f\"Lista sin duplicados: {eliminar_duplicados(lista)}\")\n"
   ]
  },
  {
   "cell_type": "markdown",
   "id": "075f1f2c",
   "metadata": {},
   "source": [
    "### Actividad 10:\n",
    "\n",
    "Escribir un programa que cree 2 matrices y realice su multiplicacion."
   ]
  },
  {
   "cell_type": "code",
   "execution_count": null,
   "id": "4c1fd0e1",
   "metadata": {},
   "outputs": [],
   "source": [
    "\n",
    "# todo:\n",
    "import random\n",
    "x = int(input(\"Ingrese el número de filas(x)\"))\n",
    "y = int(input(\"Ingrese el número de columnas(x)\"))\n",
    "\n",
    "def multiplicar_matrices(x,y):\n",
    "    matriz_uno = [[random.randint(1, 100) for _ in range(y)] for _ in range(x)]\n",
    "    matriz_dos = [[random.randint(1, 100) for _ in range(y)] for _ in range(x)]\n",
    "    \n",
    "    if len(matriz_uno[0]) != len(matriz_dos):\n",
    "        raise ValueError(\"El número de las filas de la primera debe ser igual al de las columnas de la segunda\")\n",
    "    \n",
    "    \n",
    "    \n",
    "    \n",
    "    \n",
    "    \n",
    "\n",
    "\n",
    "\n",
    "\n"
   ]
  }
 ],
 "metadata": {
  "kernelspec": {
   "display_name": "Python 3",
   "language": "python",
   "name": "python3"
  },
  "language_info": {
   "codemirror_mode": {
    "name": "ipython",
    "version": 3
   },
   "file_extension": ".py",
   "mimetype": "text/x-python",
   "name": "python",
   "nbconvert_exporter": "python",
   "pygments_lexer": "ipython3",
   "version": "3.12.9"
  }
 },
 "nbformat": 4,
 "nbformat_minor": 5
}
